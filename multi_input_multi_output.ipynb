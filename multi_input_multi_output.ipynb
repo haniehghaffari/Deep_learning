{
  "nbformat": 4,
  "nbformat_minor": 0,
  "metadata": {
    "kernelspec": {
      "display_name": "Python 3",
      "language": "python",
      "name": "python3"
    },
    "language_info": {
      "codemirror_mode": {
        "name": "ipython",
        "version": 3
      },
      "file_extension": ".py",
      "mimetype": "text/x-python",
      "name": "python",
      "nbconvert_exporter": "python",
      "pygments_lexer": "ipython3",
      "version": "3.8.3"
    },
    "colab": {
      "name": "soul2_multi_input_multi_output.ipynb",
      "provenance": [],
      "collapsed_sections": [],
      "include_colab_link": true
    },
    "accelerator": "GPU"
  },
  "cells": [
    {
      "cell_type": "markdown",
      "metadata": {
        "id": "view-in-github",
        "colab_type": "text"
      },
      "source": [
        "<a href=\"https://colab.research.google.com/github/haniehghaffari/Deep_learning/blob/main/multi_input_multi_output.ipynb\" target=\"_parent\"><img src=\"https://colab.research.google.com/assets/colab-badge.svg\" alt=\"Open In Colab\"/></a>"
      ]
    },
    {
      "cell_type": "code",
      "metadata": {
        "colab": {
          "base_uri": "https://localhost:8080/"
        },
        "id": "4mERP0S5RfoC",
        "outputId": "72a1d858-1cb5-42b2-e36e-74e22e7ae5e7"
      },
      "source": [
        "from google.colab import drive\n",
        "drive.mount('/content/drive')"
      ],
      "execution_count": 1,
      "outputs": [
        {
          "output_type": "stream",
          "text": [
            "Mounted at /content/drive\n"
          ],
          "name": "stdout"
        }
      ]
    },
    {
      "cell_type": "code",
      "metadata": {
        "id": "VwblqogGRad2"
      },
      "source": [
        "import cv2\n",
        "import numpy as np\n",
        "import glob\n",
        "from sklearn.model_selection import train_test_split\n",
        "# from deep_net import FashionNet\n",
        "from sklearn.preprocessing import LabelBinarizer#one_hot\n",
        "import matplotlib.pyplot as plt\n",
        "plt.style.use(\"ggplot\")\n",
        "from tensorflow.keras import layers, models\n",
        "from tensorflow import keras\n",
        "\n",
        "from sklearn import preprocessing\n",
        "from sklearn.preprocessing import MinMaxScaler\n",
        "from tensorflow.keras.models import Sequential\n",
        "# from keras.models import Sequential\n",
        "from keras.layers import Dense, Conv1D, Flatten\n",
        "from tensorflow.keras import layers, models\n",
        "\n",
        "from tensorflow.keras.models import Model\n",
        "import tensorflow"
      ],
      "execution_count": 2,
      "outputs": []
    },
    {
      "cell_type": "code",
      "metadata": {
        "colab": {
          "base_uri": "https://localhost:8080/",
          "height": 204
        },
        "id": "g_vvAL8NRuSZ",
        "outputId": "bcd0f878-7481-4090-a731-2f0cfb99aec9"
      },
      "source": [
        "import numpy as np\n",
        "import pandas as pd\n",
        "df = pd.read_excel('/content/drive/MyDrive/advance tensor/jalase2/ENB2012_data (1).xlsx')\n",
        "df.head()"
      ],
      "execution_count": 590,
      "outputs": [
        {
          "output_type": "execute_result",
          "data": {
            "text/html": [
              "<div>\n",
              "<style scoped>\n",
              "    .dataframe tbody tr th:only-of-type {\n",
              "        vertical-align: middle;\n",
              "    }\n",
              "\n",
              "    .dataframe tbody tr th {\n",
              "        vertical-align: top;\n",
              "    }\n",
              "\n",
              "    .dataframe thead th {\n",
              "        text-align: right;\n",
              "    }\n",
              "</style>\n",
              "<table border=\"1\" class=\"dataframe\">\n",
              "  <thead>\n",
              "    <tr style=\"text-align: right;\">\n",
              "      <th></th>\n",
              "      <th>X1</th>\n",
              "      <th>X2</th>\n",
              "      <th>X3</th>\n",
              "      <th>X4</th>\n",
              "      <th>X5</th>\n",
              "      <th>X6</th>\n",
              "      <th>X7</th>\n",
              "      <th>X8</th>\n",
              "      <th>Y1</th>\n",
              "      <th>Y2</th>\n",
              "    </tr>\n",
              "  </thead>\n",
              "  <tbody>\n",
              "    <tr>\n",
              "      <th>0</th>\n",
              "      <td>0.98</td>\n",
              "      <td>514.5</td>\n",
              "      <td>294.0</td>\n",
              "      <td>110.25</td>\n",
              "      <td>7.0</td>\n",
              "      <td>2</td>\n",
              "      <td>0.0</td>\n",
              "      <td>0</td>\n",
              "      <td>15.55</td>\n",
              "      <td>21.33</td>\n",
              "    </tr>\n",
              "    <tr>\n",
              "      <th>1</th>\n",
              "      <td>0.98</td>\n",
              "      <td>514.5</td>\n",
              "      <td>294.0</td>\n",
              "      <td>110.25</td>\n",
              "      <td>7.0</td>\n",
              "      <td>3</td>\n",
              "      <td>0.0</td>\n",
              "      <td>0</td>\n",
              "      <td>15.55</td>\n",
              "      <td>21.33</td>\n",
              "    </tr>\n",
              "    <tr>\n",
              "      <th>2</th>\n",
              "      <td>0.98</td>\n",
              "      <td>514.5</td>\n",
              "      <td>294.0</td>\n",
              "      <td>110.25</td>\n",
              "      <td>7.0</td>\n",
              "      <td>4</td>\n",
              "      <td>0.0</td>\n",
              "      <td>0</td>\n",
              "      <td>15.55</td>\n",
              "      <td>21.33</td>\n",
              "    </tr>\n",
              "    <tr>\n",
              "      <th>3</th>\n",
              "      <td>0.98</td>\n",
              "      <td>514.5</td>\n",
              "      <td>294.0</td>\n",
              "      <td>110.25</td>\n",
              "      <td>7.0</td>\n",
              "      <td>5</td>\n",
              "      <td>0.0</td>\n",
              "      <td>0</td>\n",
              "      <td>15.55</td>\n",
              "      <td>21.33</td>\n",
              "    </tr>\n",
              "    <tr>\n",
              "      <th>4</th>\n",
              "      <td>0.90</td>\n",
              "      <td>563.5</td>\n",
              "      <td>318.5</td>\n",
              "      <td>122.50</td>\n",
              "      <td>7.0</td>\n",
              "      <td>2</td>\n",
              "      <td>0.0</td>\n",
              "      <td>0</td>\n",
              "      <td>20.84</td>\n",
              "      <td>28.28</td>\n",
              "    </tr>\n",
              "  </tbody>\n",
              "</table>\n",
              "</div>"
            ],
            "text/plain": [
              "     X1     X2     X3      X4   X5  X6   X7  X8     Y1     Y2\n",
              "0  0.98  514.5  294.0  110.25  7.0   2  0.0   0  15.55  21.33\n",
              "1  0.98  514.5  294.0  110.25  7.0   3  0.0   0  15.55  21.33\n",
              "2  0.98  514.5  294.0  110.25  7.0   4  0.0   0  15.55  21.33\n",
              "3  0.98  514.5  294.0  110.25  7.0   5  0.0   0  15.55  21.33\n",
              "4  0.90  563.5  318.5  122.50  7.0   2  0.0   0  20.84  28.28"
            ]
          },
          "metadata": {},
          "execution_count": 590
        }
      ]
    },
    {
      "cell_type": "code",
      "metadata": {
        "id": "344Jpu-F4nkd"
      },
      "source": [
        "x = df.to_numpy()"
      ],
      "execution_count": 591,
      "outputs": []
    },
    {
      "cell_type": "code",
      "metadata": {
        "id": "TzQKPEQb4QXh"
      },
      "source": [
        "\n",
        "heating = x[:,8]\n",
        "cooling  = x[:,9]\n",
        "x = x[:,0:8] "
      ],
      "execution_count": 592,
      "outputs": []
    },
    {
      "cell_type": "code",
      "metadata": {
        "id": "TkPLHf5IRad9"
      },
      "source": [
        "trainx,testx ,trainheaty ,testheaty,traincooly ,testcooly  = train_test_split(x,heating,cooling,  test_size=0.2)\n"
      ],
      "execution_count": 593,
      "outputs": []
    },
    {
      "cell_type": "code",
      "metadata": {
        "id": "6_JQ20rg6oIJ"
      },
      "source": [
        "\n",
        "mean=trainx.mean(axis = 0)\n",
        "std = np.std(trainx,dtype ='float64',axis = 0)\n",
        "trainx = (trainx-mean)/std\n",
        "testx = (testx-mean)/std\n"
      ],
      "execution_count": 594,
      "outputs": []
    },
    {
      "cell_type": "code",
      "metadata": {
        "id": "WjKKjcFrM0_Y"
      },
      "source": [
        "# min_max_scaler = MinMaxScaler()\n",
        "# x_train=min_max_scaler.fit_transform(trainx)\n",
        "# x_test =min_max_scaler.fit_transform(testx)"
      ],
      "execution_count": 595,
      "outputs": []
    },
    {
      "cell_type": "code",
      "metadata": {
        "id": "qjP0G6i06VPh"
      },
      "source": [
        "x_train=pd.DataFrame(trainx \n",
        "                     , columns =['X1','X2','X3','X4','X5','X6','X7','X8']  \n",
        "                     )\n",
        "x_test=pd.DataFrame(testx\n",
        "                    , columns =['X1','X2','X3','X4','X5','X6','X7','X8'] \n",
        "                    )\n"
      ],
      "execution_count": 596,
      "outputs": []
    },
    {
      "cell_type": "code",
      "metadata": {
        "colab": {
          "base_uri": "https://localhost:8080/",
          "height": 419
        },
        "id": "efKgQv-QC10q",
        "outputId": "0abee9dc-6592-440e-ab0b-473fea30389d"
      },
      "source": [
        "\n",
        "x_train"
      ],
      "execution_count": 597,
      "outputs": [
        {
          "output_type": "execute_result",
          "data": {
            "text/html": [
              "<div>\n",
              "<style scoped>\n",
              "    .dataframe tbody tr th:only-of-type {\n",
              "        vertical-align: middle;\n",
              "    }\n",
              "\n",
              "    .dataframe tbody tr th {\n",
              "        vertical-align: top;\n",
              "    }\n",
              "\n",
              "    .dataframe thead th {\n",
              "        text-align: right;\n",
              "    }\n",
              "</style>\n",
              "<table border=\"1\" class=\"dataframe\">\n",
              "  <thead>\n",
              "    <tr style=\"text-align: right;\">\n",
              "      <th></th>\n",
              "      <th>X1</th>\n",
              "      <th>X2</th>\n",
              "      <th>X3</th>\n",
              "      <th>X4</th>\n",
              "      <th>X5</th>\n",
              "      <th>X6</th>\n",
              "      <th>X7</th>\n",
              "      <th>X8</th>\n",
              "    </tr>\n",
              "  </thead>\n",
              "  <tbody>\n",
              "    <tr>\n",
              "      <th>0</th>\n",
              "      <td>1.278327</td>\n",
              "      <td>-1.225116</td>\n",
              "      <td>0.004609</td>\n",
              "      <td>-1.198939</td>\n",
              "      <td>1.003263</td>\n",
              "      <td>-0.447797</td>\n",
              "      <td>0.095991</td>\n",
              "      <td>1.422850</td>\n",
              "    </tr>\n",
              "    <tr>\n",
              "      <th>1</th>\n",
              "      <td>-0.228908</td>\n",
              "      <td>0.162234</td>\n",
              "      <td>-1.693240</td>\n",
              "      <td>0.969392</td>\n",
              "      <td>-0.996748</td>\n",
              "      <td>-0.447797</td>\n",
              "      <td>-1.030218</td>\n",
              "      <td>-1.181114</td>\n",
              "    </tr>\n",
              "    <tr>\n",
              "      <th>2</th>\n",
              "      <td>-0.228908</td>\n",
              "      <td>0.162234</td>\n",
              "      <td>-1.693240</td>\n",
              "      <td>0.969392</td>\n",
              "      <td>-0.996748</td>\n",
              "      <td>1.343392</td>\n",
              "      <td>1.222199</td>\n",
              "      <td>0.771859</td>\n",
              "    </tr>\n",
              "    <tr>\n",
              "      <th>3</th>\n",
              "      <td>-0.040504</td>\n",
              "      <td>-0.115236</td>\n",
              "      <td>2.268407</td>\n",
              "      <td>-1.198939</td>\n",
              "      <td>1.003263</td>\n",
              "      <td>1.343392</td>\n",
              "      <td>0.095991</td>\n",
              "      <td>0.120868</td>\n",
              "    </tr>\n",
              "    <tr>\n",
              "      <th>4</th>\n",
              "      <td>-1.170930</td>\n",
              "      <td>1.272115</td>\n",
              "      <td>0.570558</td>\n",
              "      <td>0.969392</td>\n",
              "      <td>-0.996748</td>\n",
              "      <td>1.343392</td>\n",
              "      <td>1.222199</td>\n",
              "      <td>-1.181114</td>\n",
              "    </tr>\n",
              "    <tr>\n",
              "      <th>...</th>\n",
              "      <td>...</td>\n",
              "      <td>...</td>\n",
              "      <td>...</td>\n",
              "      <td>...</td>\n",
              "      <td>...</td>\n",
              "      <td>...</td>\n",
              "      <td>...</td>\n",
              "      <td>...</td>\n",
              "    </tr>\n",
              "    <tr>\n",
              "      <th>609</th>\n",
              "      <td>0.242103</td>\n",
              "      <td>-0.392706</td>\n",
              "      <td>0.570558</td>\n",
              "      <td>-0.656856</td>\n",
              "      <td>1.003263</td>\n",
              "      <td>0.447797</td>\n",
              "      <td>-1.030218</td>\n",
              "      <td>0.771859</td>\n",
              "    </tr>\n",
              "    <tr>\n",
              "      <th>610</th>\n",
              "      <td>-1.359334</td>\n",
              "      <td>1.549585</td>\n",
              "      <td>1.136508</td>\n",
              "      <td>0.969392</td>\n",
              "      <td>-0.996748</td>\n",
              "      <td>-1.343392</td>\n",
              "      <td>-1.781024</td>\n",
              "      <td>-1.832105</td>\n",
              "    </tr>\n",
              "    <tr>\n",
              "      <th>611</th>\n",
              "      <td>0.901518</td>\n",
              "      <td>-0.947646</td>\n",
              "      <td>-0.561341</td>\n",
              "      <td>-0.656856</td>\n",
              "      <td>1.003263</td>\n",
              "      <td>1.343392</td>\n",
              "      <td>1.222199</td>\n",
              "      <td>-1.181114</td>\n",
              "    </tr>\n",
              "    <tr>\n",
              "      <th>612</th>\n",
              "      <td>-0.040504</td>\n",
              "      <td>-0.115236</td>\n",
              "      <td>2.268407</td>\n",
              "      <td>-1.198939</td>\n",
              "      <td>1.003263</td>\n",
              "      <td>0.447797</td>\n",
              "      <td>0.095991</td>\n",
              "      <td>0.771859</td>\n",
              "    </tr>\n",
              "    <tr>\n",
              "      <th>613</th>\n",
              "      <td>-0.040504</td>\n",
              "      <td>-0.115236</td>\n",
              "      <td>2.268407</td>\n",
              "      <td>-1.198939</td>\n",
              "      <td>1.003263</td>\n",
              "      <td>-0.447797</td>\n",
              "      <td>1.222199</td>\n",
              "      <td>0.771859</td>\n",
              "    </tr>\n",
              "  </tbody>\n",
              "</table>\n",
              "<p>614 rows × 8 columns</p>\n",
              "</div>"
            ],
            "text/plain": [
              "           X1        X2        X3  ...        X6        X7        X8\n",
              "0    1.278327 -1.225116  0.004609  ... -0.447797  0.095991  1.422850\n",
              "1   -0.228908  0.162234 -1.693240  ... -0.447797 -1.030218 -1.181114\n",
              "2   -0.228908  0.162234 -1.693240  ...  1.343392  1.222199  0.771859\n",
              "3   -0.040504 -0.115236  2.268407  ...  1.343392  0.095991  0.120868\n",
              "4   -1.170930  1.272115  0.570558  ...  1.343392  1.222199 -1.181114\n",
              "..        ...       ...       ...  ...       ...       ...       ...\n",
              "609  0.242103 -0.392706  0.570558  ...  0.447797 -1.030218  0.771859\n",
              "610 -1.359334  1.549585  1.136508  ... -1.343392 -1.781024 -1.832105\n",
              "611  0.901518 -0.947646 -0.561341  ...  1.343392  1.222199 -1.181114\n",
              "612 -0.040504 -0.115236  2.268407  ...  0.447797  0.095991  0.771859\n",
              "613 -0.040504 -0.115236  2.268407  ... -0.447797  1.222199  0.771859\n",
              "\n",
              "[614 rows x 8 columns]"
            ]
          },
          "metadata": {},
          "execution_count": 597
        }
      ]
    },
    {
      "cell_type": "code",
      "metadata": {
        "id": "QniMs9fuHXBc"
      },
      "source": [
        "ط"
      ],
      "execution_count": 642,
      "outputs": []
    },
    {
      "cell_type": "code",
      "metadata": {
        "id": "KeaEenD2bvWr"
      },
      "source": [
        "# x_train=np.array(x_train,'float64')\n",
        "# x_test = np.array(x_test,'float64')"
      ],
      "execution_count": 630,
      "outputs": []
    },
    {
      "cell_type": "code",
      "metadata": {
        "id": "MjlJ2FKyxcro"
      },
      "source": [
        "class HeatandCoolNet():\n",
        "  @staticmethod\n",
        "  def build():\n",
        "\n",
        "    input_layer = keras.layers.Input(shape = (8,))\n",
        "    \n",
        "    # heat net\n",
        "    x = keras.layers.Dense(256, activation= \"relu\")(input_layer)\n",
        "    x = keras.layers.BatchNormalization()(x)\n",
        "    x =keras.layers.Dropout(0.5)(x)\n",
        "    x = keras.layers.BatchNormalization()(x)\n",
        "    x =keras.layers.Dropout(0.5)(x)\n",
        "    x = keras.layers.Dense(256, activation= \"relu\")(x)\n",
        "    x = keras.layers.BatchNormalization()(x)\n",
        "    x =keras.layers.Dense(1)(x)\n",
        "    \n",
        "    heat_net = keras.layers.Activation(\"linear\", name=\"heating_output\")(x)\n",
        "\n",
        "    # #cool net\n",
        "    y = keras.layers.Dense(256, activation= \"relu\")(input_layer)\n",
        "    y = keras.layers.BatchNormalization()(y)\n",
        "    y = keras.layers.Dropout(0.25)(y)\n",
        "    y = keras.layers.BatchNormalization()(y)\n",
        "    y = keras.layers.Dense(256, activation= \"relu\")(y)\n",
        "    y = keras.layers.BatchNormalization()(y)\n",
        "    y =keras.layers.Dense(1)(y)\n",
        "\n",
        "    cool_net = keras.layers.Activation(\"linear\", name=\"cooling_output\")(y)\n",
        "\n",
        "    net = models.Model(inputs = input_layer,\n",
        "                            outputs = [ heat_net, cool_net]\n",
        "                            ,name = \"HeatandCool\"\n",
        "                            )\n",
        "    return net"
      ],
      "execution_count": 650,
      "outputs": []
    },
    {
      "cell_type": "code",
      "metadata": {
        "id": "0AGMarWARNGK"
      },
      "source": [
        "net = HeatandCoolNet()\n",
        "net = net.build()"
      ],
      "execution_count": 651,
      "outputs": []
    },
    {
      "cell_type": "code",
      "metadata": {
        "id": "4BxKojXiRaeA"
      },
      "source": [
        "# dictionary\n",
        "losses = {\n",
        "        \"cooling_output\": \"mse\",\n",
        "        \"heating_output\": \"mse\",\n",
        "        }\n",
        "\n",
        "loss_weights = {\n",
        "                \"cooling_output\": 1.0,\n",
        "                \"heating_output\": 1.0}"
      ],
      "execution_count": 652,
      "outputs": []
    },
    {
      "cell_type": "code",
      "metadata": {
        "id": "-rSBabqmRaeB"
      },
      "source": [
        "net.compile(optimizer=\"adam\",\n",
        "            loss = losses, \n",
        "            loss_weights = loss_weights,\n",
        "            # metrics = [\"accuracy\"]\n",
        "            )"
      ],
      "execution_count": 653,
      "outputs": []
    },
    {
      "cell_type": "code",
      "metadata": {
        "colab": {
          "base_uri": "https://localhost:8080/"
        },
        "id": "YXvCz9GgTaWK",
        "outputId": "ab3aa267-a6bd-4783-a938-6fcc298eb0f5"
      },
      "source": [
        "#fit is like train\n",
        "H = net.fit(x=x_train,#one-input\n",
        "            y = {\"heating_output\": trainheaty, \"cooling_output\": traincooly},#two-output \n",
        "            validation_data=(x_test,\n",
        "                             {\"heating_output\": testheaty, \"cooling_output\": testcooly}),\n",
        "              epochs=100, verbose = 1)"
      ],
      "execution_count": 655,
      "outputs": [
        {
          "output_type": "stream",
          "text": [
            "Epoch 1/100\n",
            "20/20 [==============================] - 3s 27ms/step - loss: 1160.9955 - heating_output_loss: 533.6269 - cooling_output_loss: 627.3687 - val_loss: 1212.8259 - val_heating_output_loss: 538.4637 - val_cooling_output_loss: 674.3622\n",
            "Epoch 2/100\n",
            "20/20 [==============================] - 0s 14ms/step - loss: 1073.9889 - heating_output_loss: 485.5735 - cooling_output_loss: 588.4153 - val_loss: 1159.7502 - val_heating_output_loss: 521.8809 - val_cooling_output_loss: 637.8694\n",
            "Epoch 3/100\n",
            "20/20 [==============================] - 0s 13ms/step - loss: 1024.4066 - heating_output_loss: 461.0689 - cooling_output_loss: 563.3376 - val_loss: 1076.2839 - val_heating_output_loss: 488.3459 - val_cooling_output_loss: 587.9381\n",
            "Epoch 4/100\n",
            "20/20 [==============================] - 0s 13ms/step - loss: 958.2968 - heating_output_loss: 431.0549 - cooling_output_loss: 527.2419 - val_loss: 963.9220 - val_heating_output_loss: 438.9085 - val_cooling_output_loss: 525.0134\n",
            "Epoch 5/100\n",
            "20/20 [==============================] - 0s 12ms/step - loss: 863.1440 - heating_output_loss: 387.1903 - cooling_output_loss: 475.9537 - val_loss: 834.4118 - val_heating_output_loss: 383.3426 - val_cooling_output_loss: 451.0692\n",
            "Epoch 6/100\n",
            "20/20 [==============================] - 0s 14ms/step - loss: 744.8603 - heating_output_loss: 334.0930 - cooling_output_loss: 410.7674 - val_loss: 681.5870 - val_heating_output_loss: 313.1558 - val_cooling_output_loss: 368.4313\n",
            "Epoch 7/100\n",
            "20/20 [==============================] - 0s 14ms/step - loss: 603.4646 - heating_output_loss: 268.5739 - cooling_output_loss: 334.8907 - val_loss: 533.1219 - val_heating_output_loss: 246.3833 - val_cooling_output_loss: 286.7386\n",
            "Epoch 8/100\n",
            "20/20 [==============================] - 0s 14ms/step - loss: 467.1168 - heating_output_loss: 208.3230 - cooling_output_loss: 258.7937 - val_loss: 377.3957 - val_heating_output_loss: 173.6814 - val_cooling_output_loss: 203.7143\n",
            "Epoch 9/100\n",
            "20/20 [==============================] - 0s 13ms/step - loss: 325.3220 - heating_output_loss: 144.9156 - cooling_output_loss: 180.4064 - val_loss: 242.0506 - val_heating_output_loss: 111.7419 - val_cooling_output_loss: 130.3087\n",
            "Epoch 10/100\n",
            "20/20 [==============================] - 0s 14ms/step - loss: 213.9919 - heating_output_loss: 96.1695 - cooling_output_loss: 117.8224 - val_loss: 159.7242 - val_heating_output_loss: 70.8691 - val_cooling_output_loss: 88.8551\n",
            "Epoch 11/100\n",
            "20/20 [==============================] - 0s 12ms/step - loss: 134.2773 - heating_output_loss: 62.2691 - cooling_output_loss: 72.0083 - val_loss: 102.3264 - val_heating_output_loss: 50.1400 - val_cooling_output_loss: 52.1864\n",
            "Epoch 12/100\n",
            "20/20 [==============================] - 0s 12ms/step - loss: 83.6378 - heating_output_loss: 41.3784 - cooling_output_loss: 42.2593 - val_loss: 70.1106 - val_heating_output_loss: 35.6093 - val_cooling_output_loss: 34.5014\n",
            "Epoch 13/100\n",
            "20/20 [==============================] - 0s 13ms/step - loss: 52.9752 - heating_output_loss: 28.7462 - cooling_output_loss: 24.2290 - val_loss: 63.5234 - val_heating_output_loss: 33.4860 - val_cooling_output_loss: 30.0374\n",
            "Epoch 14/100\n",
            "20/20 [==============================] - 0s 13ms/step - loss: 40.6466 - heating_output_loss: 24.0951 - cooling_output_loss: 16.5515 - val_loss: 43.8625 - val_heating_output_loss: 26.3377 - val_cooling_output_loss: 17.5248\n",
            "Epoch 15/100\n",
            "20/20 [==============================] - 0s 13ms/step - loss: 32.0805 - heating_output_loss: 21.7200 - cooling_output_loss: 10.3605 - val_loss: 41.6686 - val_heating_output_loss: 23.1026 - val_cooling_output_loss: 18.5660\n",
            "Epoch 16/100\n",
            "20/20 [==============================] - 0s 14ms/step - loss: 38.1899 - heating_output_loss: 24.3503 - cooling_output_loss: 13.8396 - val_loss: 29.2060 - val_heating_output_loss: 13.2829 - val_cooling_output_loss: 15.9230\n",
            "Epoch 17/100\n",
            "20/20 [==============================] - 0s 13ms/step - loss: 27.1495 - heating_output_loss: 18.0673 - cooling_output_loss: 9.0822 - val_loss: 30.6414 - val_heating_output_loss: 16.3758 - val_cooling_output_loss: 14.2655\n",
            "Epoch 18/100\n",
            "20/20 [==============================] - 0s 13ms/step - loss: 26.4756 - heating_output_loss: 18.4701 - cooling_output_loss: 8.0055 - val_loss: 25.5664 - val_heating_output_loss: 11.8768 - val_cooling_output_loss: 13.6897\n",
            "Epoch 19/100\n",
            "20/20 [==============================] - 0s 13ms/step - loss: 31.7510 - heating_output_loss: 20.8199 - cooling_output_loss: 10.9311 - val_loss: 18.2944 - val_heating_output_loss: 9.9094 - val_cooling_output_loss: 8.3850\n",
            "Epoch 20/100\n",
            "20/20 [==============================] - 0s 13ms/step - loss: 28.7313 - heating_output_loss: 18.1126 - cooling_output_loss: 10.6187 - val_loss: 23.3111 - val_heating_output_loss: 11.1536 - val_cooling_output_loss: 12.1576\n",
            "Epoch 21/100\n",
            "20/20 [==============================] - 0s 13ms/step - loss: 26.6438 - heating_output_loss: 17.3081 - cooling_output_loss: 9.3357 - val_loss: 12.6845 - val_heating_output_loss: 7.9121 - val_cooling_output_loss: 4.7724\n",
            "Epoch 22/100\n",
            "20/20 [==============================] - 0s 14ms/step - loss: 24.5539 - heating_output_loss: 16.0227 - cooling_output_loss: 8.5312 - val_loss: 15.1276 - val_heating_output_loss: 7.0259 - val_cooling_output_loss: 8.1018\n",
            "Epoch 23/100\n",
            "20/20 [==============================] - 0s 12ms/step - loss: 25.4136 - heating_output_loss: 15.5439 - cooling_output_loss: 9.8697 - val_loss: 10.9720 - val_heating_output_loss: 6.8694 - val_cooling_output_loss: 4.1027\n",
            "Epoch 24/100\n",
            "20/20 [==============================] - 0s 12ms/step - loss: 25.3789 - heating_output_loss: 16.3415 - cooling_output_loss: 9.0375 - val_loss: 11.6925 - val_heating_output_loss: 7.3894 - val_cooling_output_loss: 4.3031\n",
            "Epoch 25/100\n",
            "20/20 [==============================] - 0s 13ms/step - loss: 24.1620 - heating_output_loss: 16.1785 - cooling_output_loss: 7.9836 - val_loss: 10.2694 - val_heating_output_loss: 6.1948 - val_cooling_output_loss: 4.0745\n",
            "Epoch 26/100\n",
            "20/20 [==============================] - 0s 13ms/step - loss: 23.4632 - heating_output_loss: 15.0921 - cooling_output_loss: 8.3711 - val_loss: 9.9177 - val_heating_output_loss: 6.3870 - val_cooling_output_loss: 3.5307\n",
            "Epoch 27/100\n",
            "20/20 [==============================] - 0s 13ms/step - loss: 21.8635 - heating_output_loss: 15.3701 - cooling_output_loss: 6.4934 - val_loss: 10.8697 - val_heating_output_loss: 7.6179 - val_cooling_output_loss: 3.2518\n",
            "Epoch 28/100\n",
            "20/20 [==============================] - 0s 13ms/step - loss: 22.7155 - heating_output_loss: 15.2088 - cooling_output_loss: 7.5067 - val_loss: 9.6690 - val_heating_output_loss: 6.0500 - val_cooling_output_loss: 3.6190\n",
            "Epoch 29/100\n",
            "20/20 [==============================] - 0s 13ms/step - loss: 22.1846 - heating_output_loss: 14.7345 - cooling_output_loss: 7.4500 - val_loss: 10.4096 - val_heating_output_loss: 7.4515 - val_cooling_output_loss: 2.9581\n",
            "Epoch 30/100\n",
            "20/20 [==============================] - 0s 12ms/step - loss: 22.9867 - heating_output_loss: 15.1775 - cooling_output_loss: 7.8092 - val_loss: 10.7352 - val_heating_output_loss: 7.0751 - val_cooling_output_loss: 3.6601\n",
            "Epoch 31/100\n",
            "20/20 [==============================] - 0s 13ms/step - loss: 21.7767 - heating_output_loss: 14.7756 - cooling_output_loss: 7.0012 - val_loss: 10.4272 - val_heating_output_loss: 6.6506 - val_cooling_output_loss: 3.7766\n",
            "Epoch 32/100\n",
            "20/20 [==============================] - 0s 13ms/step - loss: 23.9921 - heating_output_loss: 15.8764 - cooling_output_loss: 8.1157 - val_loss: 11.2725 - val_heating_output_loss: 7.7119 - val_cooling_output_loss: 3.5606\n",
            "Epoch 33/100\n",
            "20/20 [==============================] - 0s 13ms/step - loss: 21.6992 - heating_output_loss: 14.3046 - cooling_output_loss: 7.3946 - val_loss: 11.3183 - val_heating_output_loss: 7.4997 - val_cooling_output_loss: 3.8186\n",
            "Epoch 34/100\n",
            "20/20 [==============================] - 0s 13ms/step - loss: 23.5655 - heating_output_loss: 15.9474 - cooling_output_loss: 7.6181 - val_loss: 11.9642 - val_heating_output_loss: 8.1788 - val_cooling_output_loss: 3.7854\n",
            "Epoch 35/100\n",
            "20/20 [==============================] - 0s 12ms/step - loss: 18.3643 - heating_output_loss: 12.5840 - cooling_output_loss: 5.7803 - val_loss: 9.2450 - val_heating_output_loss: 6.0742 - val_cooling_output_loss: 3.1708\n",
            "Epoch 36/100\n",
            "20/20 [==============================] - 0s 13ms/step - loss: 23.4435 - heating_output_loss: 15.3250 - cooling_output_loss: 8.1185 - val_loss: 9.6307 - val_heating_output_loss: 6.1861 - val_cooling_output_loss: 3.4446\n",
            "Epoch 37/100\n",
            "20/20 [==============================] - 0s 14ms/step - loss: 17.0133 - heating_output_loss: 11.2010 - cooling_output_loss: 5.8122 - val_loss: 8.6376 - val_heating_output_loss: 5.9180 - val_cooling_output_loss: 2.7196\n",
            "Epoch 38/100\n",
            "20/20 [==============================] - 0s 12ms/step - loss: 21.2222 - heating_output_loss: 14.0050 - cooling_output_loss: 7.2172 - val_loss: 8.2722 - val_heating_output_loss: 5.7745 - val_cooling_output_loss: 2.4977\n",
            "Epoch 39/100\n",
            "20/20 [==============================] - 0s 13ms/step - loss: 17.9680 - heating_output_loss: 11.8225 - cooling_output_loss: 6.1455 - val_loss: 8.2118 - val_heating_output_loss: 5.2140 - val_cooling_output_loss: 2.9979\n",
            "Epoch 40/100\n",
            "20/20 [==============================] - 0s 13ms/step - loss: 22.5906 - heating_output_loss: 14.3237 - cooling_output_loss: 8.2669 - val_loss: 7.5339 - val_heating_output_loss: 5.3865 - val_cooling_output_loss: 2.1474\n",
            "Epoch 41/100\n",
            "20/20 [==============================] - 0s 13ms/step - loss: 20.4379 - heating_output_loss: 13.5916 - cooling_output_loss: 6.8463 - val_loss: 9.6476 - val_heating_output_loss: 6.8056 - val_cooling_output_loss: 2.8420\n",
            "Epoch 42/100\n",
            "20/20 [==============================] - 0s 13ms/step - loss: 21.0466 - heating_output_loss: 14.1369 - cooling_output_loss: 6.9097 - val_loss: 9.7179 - val_heating_output_loss: 5.9645 - val_cooling_output_loss: 3.7534\n",
            "Epoch 43/100\n",
            "20/20 [==============================] - 0s 13ms/step - loss: 23.7700 - heating_output_loss: 15.0640 - cooling_output_loss: 8.7060 - val_loss: 7.9901 - val_heating_output_loss: 5.2209 - val_cooling_output_loss: 2.7692\n",
            "Epoch 44/100\n",
            "20/20 [==============================] - 0s 13ms/step - loss: 18.3411 - heating_output_loss: 12.4640 - cooling_output_loss: 5.8771 - val_loss: 7.2113 - val_heating_output_loss: 4.9995 - val_cooling_output_loss: 2.2118\n",
            "Epoch 45/100\n",
            "20/20 [==============================] - 0s 14ms/step - loss: 19.0828 - heating_output_loss: 13.2734 - cooling_output_loss: 5.8095 - val_loss: 7.5507 - val_heating_output_loss: 5.3640 - val_cooling_output_loss: 2.1867\n",
            "Epoch 46/100\n",
            "20/20 [==============================] - 0s 12ms/step - loss: 17.4366 - heating_output_loss: 11.1527 - cooling_output_loss: 6.2839 - val_loss: 7.9597 - val_heating_output_loss: 4.9822 - val_cooling_output_loss: 2.9775\n",
            "Epoch 47/100\n",
            "20/20 [==============================] - 0s 12ms/step - loss: 19.2788 - heating_output_loss: 12.0259 - cooling_output_loss: 7.2529 - val_loss: 8.3541 - val_heating_output_loss: 5.9615 - val_cooling_output_loss: 2.3925\n",
            "Epoch 48/100\n",
            "20/20 [==============================] - 0s 13ms/step - loss: 18.4848 - heating_output_loss: 12.3983 - cooling_output_loss: 6.0865 - val_loss: 7.8141 - val_heating_output_loss: 5.3560 - val_cooling_output_loss: 2.4581\n",
            "Epoch 49/100\n",
            "20/20 [==============================] - 0s 14ms/step - loss: 17.6068 - heating_output_loss: 11.3633 - cooling_output_loss: 6.2435 - val_loss: 9.4775 - val_heating_output_loss: 6.4202 - val_cooling_output_loss: 3.0573\n",
            "Epoch 50/100\n",
            "20/20 [==============================] - 0s 12ms/step - loss: 22.5077 - heating_output_loss: 14.3841 - cooling_output_loss: 8.1236 - val_loss: 7.2431 - val_heating_output_loss: 4.5624 - val_cooling_output_loss: 2.6807\n",
            "Epoch 51/100\n",
            "20/20 [==============================] - 0s 13ms/step - loss: 18.2473 - heating_output_loss: 11.9881 - cooling_output_loss: 6.2592 - val_loss: 7.6578 - val_heating_output_loss: 4.8349 - val_cooling_output_loss: 2.8229\n",
            "Epoch 52/100\n",
            "20/20 [==============================] - 0s 14ms/step - loss: 20.1913 - heating_output_loss: 12.8268 - cooling_output_loss: 7.3645 - val_loss: 6.9911 - val_heating_output_loss: 4.8948 - val_cooling_output_loss: 2.0963\n",
            "Epoch 53/100\n",
            "20/20 [==============================] - 0s 12ms/step - loss: 20.4453 - heating_output_loss: 13.6107 - cooling_output_loss: 6.8346 - val_loss: 7.4273 - val_heating_output_loss: 5.2436 - val_cooling_output_loss: 2.1837\n",
            "Epoch 54/100\n",
            "20/20 [==============================] - 0s 13ms/step - loss: 21.6743 - heating_output_loss: 13.9791 - cooling_output_loss: 7.6953 - val_loss: 7.3553 - val_heating_output_loss: 4.6449 - val_cooling_output_loss: 2.7104\n",
            "Epoch 55/100\n",
            "20/20 [==============================] - 0s 14ms/step - loss: 22.9217 - heating_output_loss: 14.0673 - cooling_output_loss: 8.8543 - val_loss: 7.4920 - val_heating_output_loss: 5.0605 - val_cooling_output_loss: 2.4314\n",
            "Epoch 56/100\n",
            "20/20 [==============================] - 0s 13ms/step - loss: 18.7573 - heating_output_loss: 11.8934 - cooling_output_loss: 6.8639 - val_loss: 8.2678 - val_heating_output_loss: 4.5942 - val_cooling_output_loss: 3.6736\n",
            "Epoch 57/100\n",
            "20/20 [==============================] - 0s 12ms/step - loss: 17.7848 - heating_output_loss: 11.2545 - cooling_output_loss: 6.5303 - val_loss: 6.8320 - val_heating_output_loss: 4.5094 - val_cooling_output_loss: 2.3226\n",
            "Epoch 58/100\n",
            "20/20 [==============================] - 0s 13ms/step - loss: 16.1656 - heating_output_loss: 10.8553 - cooling_output_loss: 5.3103 - val_loss: 6.3071 - val_heating_output_loss: 4.3976 - val_cooling_output_loss: 1.9095\n",
            "Epoch 59/100\n",
            "20/20 [==============================] - 0s 13ms/step - loss: 18.9899 - heating_output_loss: 11.5914 - cooling_output_loss: 7.3985 - val_loss: 6.9240 - val_heating_output_loss: 4.6485 - val_cooling_output_loss: 2.2755\n",
            "Epoch 60/100\n",
            "20/20 [==============================] - 0s 13ms/step - loss: 15.9899 - heating_output_loss: 10.5088 - cooling_output_loss: 5.4812 - val_loss: 5.8611 - val_heating_output_loss: 3.9558 - val_cooling_output_loss: 1.9053\n",
            "Epoch 61/100\n",
            "20/20 [==============================] - 0s 13ms/step - loss: 17.7295 - heating_output_loss: 11.8712 - cooling_output_loss: 5.8583 - val_loss: 6.5004 - val_heating_output_loss: 3.7771 - val_cooling_output_loss: 2.7233\n",
            "Epoch 62/100\n",
            "20/20 [==============================] - 0s 12ms/step - loss: 15.6553 - heating_output_loss: 10.0831 - cooling_output_loss: 5.5723 - val_loss: 6.6938 - val_heating_output_loss: 4.5017 - val_cooling_output_loss: 2.1920\n",
            "Epoch 63/100\n",
            "20/20 [==============================] - 0s 12ms/step - loss: 17.3457 - heating_output_loss: 11.2091 - cooling_output_loss: 6.1366 - val_loss: 8.6097 - val_heating_output_loss: 4.8281 - val_cooling_output_loss: 3.7816\n",
            "Epoch 64/100\n",
            "20/20 [==============================] - 0s 13ms/step - loss: 22.1798 - heating_output_loss: 14.1637 - cooling_output_loss: 8.0161 - val_loss: 6.3942 - val_heating_output_loss: 4.4775 - val_cooling_output_loss: 1.9167\n",
            "Epoch 65/100\n",
            "20/20 [==============================] - 0s 13ms/step - loss: 15.5764 - heating_output_loss: 10.1535 - cooling_output_loss: 5.4229 - val_loss: 6.4218 - val_heating_output_loss: 4.7044 - val_cooling_output_loss: 1.7173\n",
            "Epoch 66/100\n",
            "20/20 [==============================] - 0s 13ms/step - loss: 21.3720 - heating_output_loss: 13.2066 - cooling_output_loss: 8.1654 - val_loss: 5.8057 - val_heating_output_loss: 4.1242 - val_cooling_output_loss: 1.6815\n",
            "Epoch 67/100\n",
            "20/20 [==============================] - 0s 13ms/step - loss: 18.5199 - heating_output_loss: 11.9919 - cooling_output_loss: 6.5280 - val_loss: 6.2524 - val_heating_output_loss: 4.1498 - val_cooling_output_loss: 2.1026\n",
            "Epoch 68/100\n",
            "20/20 [==============================] - 0s 15ms/step - loss: 16.4427 - heating_output_loss: 10.7688 - cooling_output_loss: 5.6739 - val_loss: 6.4634 - val_heating_output_loss: 4.5878 - val_cooling_output_loss: 1.8756\n",
            "Epoch 69/100\n",
            "20/20 [==============================] - 0s 13ms/step - loss: 16.6550 - heating_output_loss: 11.2939 - cooling_output_loss: 5.3611 - val_loss: 7.1736 - val_heating_output_loss: 5.1587 - val_cooling_output_loss: 2.0149\n",
            "Epoch 70/100\n",
            "20/20 [==============================] - 0s 13ms/step - loss: 15.3205 - heating_output_loss: 9.7307 - cooling_output_loss: 5.5898 - val_loss: 7.2453 - val_heating_output_loss: 5.4190 - val_cooling_output_loss: 1.8263\n",
            "Epoch 71/100\n",
            "20/20 [==============================] - 0s 15ms/step - loss: 19.4933 - heating_output_loss: 12.1575 - cooling_output_loss: 7.3358 - val_loss: 5.2487 - val_heating_output_loss: 3.5630 - val_cooling_output_loss: 1.6857\n",
            "Epoch 72/100\n",
            "20/20 [==============================] - 0s 13ms/step - loss: 17.2969 - heating_output_loss: 10.9752 - cooling_output_loss: 6.3217 - val_loss: 5.3358 - val_heating_output_loss: 3.8520 - val_cooling_output_loss: 1.4837\n",
            "Epoch 73/100\n",
            "20/20 [==============================] - 0s 13ms/step - loss: 18.5358 - heating_output_loss: 12.0726 - cooling_output_loss: 6.4632 - val_loss: 6.5298 - val_heating_output_loss: 4.3643 - val_cooling_output_loss: 2.1655\n",
            "Epoch 74/100\n",
            "20/20 [==============================] - 0s 14ms/step - loss: 16.3352 - heating_output_loss: 10.6753 - cooling_output_loss: 5.6599 - val_loss: 5.7509 - val_heating_output_loss: 3.9308 - val_cooling_output_loss: 1.8200\n",
            "Epoch 75/100\n",
            "20/20 [==============================] - 0s 13ms/step - loss: 17.3205 - heating_output_loss: 11.1423 - cooling_output_loss: 6.1782 - val_loss: 6.8730 - val_heating_output_loss: 4.0550 - val_cooling_output_loss: 2.8180\n",
            "Epoch 76/100\n",
            "20/20 [==============================] - 0s 13ms/step - loss: 17.3451 - heating_output_loss: 10.0644 - cooling_output_loss: 7.2807 - val_loss: 5.2373 - val_heating_output_loss: 3.1772 - val_cooling_output_loss: 2.0601\n",
            "Epoch 77/100\n",
            "20/20 [==============================] - 0s 13ms/step - loss: 17.2233 - heating_output_loss: 10.5986 - cooling_output_loss: 6.6247 - val_loss: 5.8824 - val_heating_output_loss: 4.3219 - val_cooling_output_loss: 1.5604\n",
            "Epoch 78/100\n",
            "20/20 [==============================] - 0s 13ms/step - loss: 13.9473 - heating_output_loss: 8.7492 - cooling_output_loss: 5.1981 - val_loss: 5.9110 - val_heating_output_loss: 3.8693 - val_cooling_output_loss: 2.0417\n",
            "Epoch 79/100\n",
            "20/20 [==============================] - 0s 14ms/step - loss: 12.9488 - heating_output_loss: 8.3401 - cooling_output_loss: 4.6087 - val_loss: 5.3895 - val_heating_output_loss: 3.4059 - val_cooling_output_loss: 1.9836\n",
            "Epoch 80/100\n",
            "20/20 [==============================] - 0s 13ms/step - loss: 15.8109 - heating_output_loss: 10.1184 - cooling_output_loss: 5.6925 - val_loss: 5.3540 - val_heating_output_loss: 3.6117 - val_cooling_output_loss: 1.7423\n",
            "Epoch 81/100\n",
            "20/20 [==============================] - 0s 14ms/step - loss: 18.0334 - heating_output_loss: 11.5995 - cooling_output_loss: 6.4339 - val_loss: 5.5794 - val_heating_output_loss: 2.9600 - val_cooling_output_loss: 2.6193\n",
            "Epoch 82/100\n",
            "20/20 [==============================] - 0s 16ms/step - loss: 14.7806 - heating_output_loss: 9.2958 - cooling_output_loss: 5.4848 - val_loss: 4.7892 - val_heating_output_loss: 2.9534 - val_cooling_output_loss: 1.8358\n",
            "Epoch 83/100\n",
            "20/20 [==============================] - 0s 12ms/step - loss: 16.3415 - heating_output_loss: 10.1715 - cooling_output_loss: 6.1699 - val_loss: 4.9864 - val_heating_output_loss: 3.0873 - val_cooling_output_loss: 1.8991\n",
            "Epoch 84/100\n",
            "20/20 [==============================] - 0s 13ms/step - loss: 12.3869 - heating_output_loss: 8.0072 - cooling_output_loss: 4.3797 - val_loss: 4.7561 - val_heating_output_loss: 2.9640 - val_cooling_output_loss: 1.7921\n",
            "Epoch 85/100\n",
            "20/20 [==============================] - 0s 13ms/step - loss: 14.0133 - heating_output_loss: 8.8981 - cooling_output_loss: 5.1152 - val_loss: 5.3880 - val_heating_output_loss: 3.2537 - val_cooling_output_loss: 2.1342\n",
            "Epoch 86/100\n",
            "20/20 [==============================] - 0s 14ms/step - loss: 17.5383 - heating_output_loss: 10.8670 - cooling_output_loss: 6.6712 - val_loss: 5.2374 - val_heating_output_loss: 3.0647 - val_cooling_output_loss: 2.1728\n",
            "Epoch 87/100\n",
            "20/20 [==============================] - 0s 14ms/step - loss: 17.2455 - heating_output_loss: 10.8470 - cooling_output_loss: 6.3985 - val_loss: 4.6923 - val_heating_output_loss: 2.5950 - val_cooling_output_loss: 2.0973\n",
            "Epoch 88/100\n",
            "20/20 [==============================] - 0s 12ms/step - loss: 15.5936 - heating_output_loss: 9.6149 - cooling_output_loss: 5.9787 - val_loss: 5.1132 - val_heating_output_loss: 3.1963 - val_cooling_output_loss: 1.9169\n",
            "Epoch 89/100\n",
            "20/20 [==============================] - 0s 12ms/step - loss: 12.9064 - heating_output_loss: 8.2174 - cooling_output_loss: 4.6890 - val_loss: 6.1423 - val_heating_output_loss: 3.8777 - val_cooling_output_loss: 2.2646\n",
            "Epoch 90/100\n",
            "20/20 [==============================] - 0s 12ms/step - loss: 14.9085 - heating_output_loss: 9.1313 - cooling_output_loss: 5.7772 - val_loss: 4.9290 - val_heating_output_loss: 3.1436 - val_cooling_output_loss: 1.7854\n",
            "Epoch 91/100\n",
            "20/20 [==============================] - 0s 13ms/step - loss: 13.3243 - heating_output_loss: 8.1322 - cooling_output_loss: 5.1921 - val_loss: 5.8181 - val_heating_output_loss: 3.8472 - val_cooling_output_loss: 1.9710\n",
            "Epoch 92/100\n",
            "20/20 [==============================] - 0s 13ms/step - loss: 17.3198 - heating_output_loss: 10.9329 - cooling_output_loss: 6.3869 - val_loss: 5.3754 - val_heating_output_loss: 3.5224 - val_cooling_output_loss: 1.8530\n",
            "Epoch 93/100\n",
            "20/20 [==============================] - 0s 13ms/step - loss: 14.3918 - heating_output_loss: 9.5424 - cooling_output_loss: 4.8493 - val_loss: 4.6369 - val_heating_output_loss: 3.1141 - val_cooling_output_loss: 1.5229\n",
            "Epoch 94/100\n",
            "20/20 [==============================] - 0s 13ms/step - loss: 15.7845 - heating_output_loss: 9.8195 - cooling_output_loss: 5.9650 - val_loss: 5.3584 - val_heating_output_loss: 3.4780 - val_cooling_output_loss: 1.8804\n",
            "Epoch 95/100\n",
            "20/20 [==============================] - 0s 13ms/step - loss: 12.4034 - heating_output_loss: 8.0818 - cooling_output_loss: 4.3215 - val_loss: 4.6510 - val_heating_output_loss: 3.4064 - val_cooling_output_loss: 1.2446\n",
            "Epoch 96/100\n",
            "20/20 [==============================] - 0s 14ms/step - loss: 18.6282 - heating_output_loss: 11.5032 - cooling_output_loss: 7.1250 - val_loss: 4.4063 - val_heating_output_loss: 2.9545 - val_cooling_output_loss: 1.4519\n",
            "Epoch 97/100\n",
            "20/20 [==============================] - 0s 13ms/step - loss: 14.3081 - heating_output_loss: 9.7556 - cooling_output_loss: 4.5525 - val_loss: 5.7594 - val_heating_output_loss: 4.1188 - val_cooling_output_loss: 1.6406\n",
            "Epoch 98/100\n",
            "20/20 [==============================] - 0s 13ms/step - loss: 20.1653 - heating_output_loss: 12.4794 - cooling_output_loss: 7.6859 - val_loss: 5.2954 - val_heating_output_loss: 3.4776 - val_cooling_output_loss: 1.8178\n",
            "Epoch 99/100\n",
            "20/20 [==============================] - 0s 13ms/step - loss: 18.4444 - heating_output_loss: 11.7543 - cooling_output_loss: 6.6901 - val_loss: 4.8063 - val_heating_output_loss: 2.9299 - val_cooling_output_loss: 1.8764\n",
            "Epoch 100/100\n",
            "20/20 [==============================] - 0s 13ms/step - loss: 14.0995 - heating_output_loss: 9.4839 - cooling_output_loss: 4.6156 - val_loss: 4.1990 - val_heating_output_loss: 2.8299 - val_cooling_output_loss: 1.3691\n"
          ],
          "name": "stdout"
        }
      ]
    },
    {
      "cell_type": "code",
      "metadata": {
        "colab": {
          "base_uri": "https://localhost:8080/",
          "height": 282
        },
        "id": "miqZyFzlw_U1",
        "outputId": "6c6e43d6-22aa-431e-a763-ec3c206b17ac"
      },
      "source": [
        "plt.plot(H.history[\"heating_output_loss\"], label = \"heating loss\")\n",
        "plt.plot(H.history[\"cooling_output_loss\"], label = \"cool loss\")\n",
        "\n",
        "# plt.plot(H.history[\"cooling_output_accuracy\"], label=\"val cooling acc\")\n",
        "plt.xlabel(\"epochs\")\n",
        "plt.ylabel(\"loss\")\n",
        "plt.legend()\n",
        "plt.show()\n",
        "plt.close()"
      ],
      "execution_count": 656,
      "outputs": [
        {
          "output_type": "display_data",
          "data": {
            "image/png": "[encoded data removed]",
            "text/plain": [
              "<Figure size 432x288 with 1 Axes>"
            ]
          },
          "metadata": {}
        }
      ]
    },
    {
      "cell_type": "code",
      "metadata": {
        "colab": {
          "base_uri": "https://localhost:8080/"
        },
        "id": "bKFUq5brxdEW",
        "outputId": "3044f498-a756-44c2-b3a7-a74d545ecf86"
      },
      "source": [
        "net.summary()"
      ],
      "execution_count": 657,
      "outputs": [
        {
          "output_type": "stream",
          "text": [
            "Model: \"HeatandCool\"\n",
            "__________________________________________________________________________________________________\n",
            "Layer (type)                    Output Shape         Param #     Connected to                     \n",
            "==================================================================================================\n",
            "input_74 (InputLayer)           [(None, 8)]          0                                            \n",
            "__________________________________________________________________________________________________\n",
            "dense_301 (Dense)               (None, 256)          2304        input_74[0][0]                   \n",
            "__________________________________________________________________________________________________\n",
            "batch_normalization_207 (BatchN (None, 256)          1024        dense_301[0][0]                  \n",
            "__________________________________________________________________________________________________\n",
            "dense_304 (Dense)               (None, 256)          2304        input_74[0][0]                   \n",
            "__________________________________________________________________________________________________\n",
            "dropout_100 (Dropout)           (None, 256)          0           batch_normalization_207[0][0]    \n",
            "__________________________________________________________________________________________________\n",
            "batch_normalization_210 (BatchN (None, 256)          1024        dense_304[0][0]                  \n",
            "__________________________________________________________________________________________________\n",
            "batch_normalization_208 (BatchN (None, 256)          1024        dropout_100[0][0]                \n",
            "__________________________________________________________________________________________________\n",
            "dropout_102 (Dropout)           (None, 256)          0           batch_normalization_210[0][0]    \n",
            "__________________________________________________________________________________________________\n",
            "dropout_101 (Dropout)           (None, 256)          0           batch_normalization_208[0][0]    \n",
            "__________________________________________________________________________________________________\n",
            "batch_normalization_211 (BatchN (None, 256)          1024        dropout_102[0][0]                \n",
            "__________________________________________________________________________________________________\n",
            "dense_302 (Dense)               (None, 256)          65792       dropout_101[0][0]                \n",
            "__________________________________________________________________________________________________\n",
            "dense_305 (Dense)               (None, 256)          65792       batch_normalization_211[0][0]    \n",
            "__________________________________________________________________________________________________\n",
            "batch_normalization_209 (BatchN (None, 256)          1024        dense_302[0][0]                  \n",
            "__________________________________________________________________________________________________\n",
            "batch_normalization_212 (BatchN (None, 256)          1024        dense_305[0][0]                  \n",
            "__________________________________________________________________________________________________\n",
            "dense_303 (Dense)               (None, 1)            257         batch_normalization_209[0][0]    \n",
            "__________________________________________________________________________________________________\n",
            "dense_306 (Dense)               (None, 1)            257         batch_normalization_212[0][0]    \n",
            "__________________________________________________________________________________________________\n",
            "heating_output (Activation)     (None, 1)            0           dense_303[0][0]                  \n",
            "__________________________________________________________________________________________________\n",
            "cooling_output (Activation)     (None, 1)            0           dense_306[0][0]                  \n",
            "==================================================================================================\n",
            "Total params: 142,850\n",
            "Trainable params: 139,778\n",
            "Non-trainable params: 3,072\n",
            "__________________________________________________________________________________________________\n"
          ],
          "name": "stdout"
        }
      ]
    },
    {
      "cell_type": "code",
      "metadata": {
        "colab": {
          "base_uri": "https://localhost:8080/",
          "height": 953
        },
        "id": "AuVwxl4rUSRv",
        "outputId": "fdfe8174-f7fc-4a0a-d30f-7ed3daeee6b8"
      },
      "source": [
        "from tensorflow.keras.utils import plot_model\n",
        "plot_model(net, to_file='net.png')\n"
      ],
      "execution_count": 658,
      "outputs": [
        {
          "output_type": "execute_result",
          "data": {
            "image/png": "[encoded data removed]",
            "text/plain": [
              "<IPython.core.display.Image object>"
            ]
          },
          "metadata": {},
          "execution_count": 658
        }
      ]
    },
    {
      "cell_type": "code",
      "metadata": {
        "id": "OKQP_pjXUcwd"
      },
      "source": [
        ""
      ],
      "execution_count": null,
      "outputs": []
    }
  ]
}