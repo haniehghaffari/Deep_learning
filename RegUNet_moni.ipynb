{
  "nbformat": 4,
  "nbformat_minor": 0,
  "metadata": {
    "colab": {
      "name": "RegUNet_moni.ipynb",
      "provenance": [],
      "collapsed_sections": [],
      "include_colab_link": true
    },
    "kernelspec": {
      "name": "python3",
      "display_name": "Python 3"
    },
    "language_info": {
      "name": "python"
    },
    "accelerator": "GPU"
  },
  "cells": [
    {
      "cell_type": "markdown",
      "metadata": {
        "id": "view-in-github",
        "colab_type": "text"
      },
      "source": [
        "<a href=\"https://colab.research.google.com/github/haniehghaffari/Deep_learning/blob/main/RegUNet_moni.ipynb\" target=\"_parent\"><img src=\"https://colab.research.google.com/assets/colab-badge.svg\" alt=\"Open In Colab\"/></a>"
      ]
    },
    {
      "cell_type": "code",
      "metadata": {
        "id": "ICDVUKWQ_cV6"
      },
      "source": [
        "#  i_use_https://github.com/DeepRegNet/DeepReg/blob/main/deepreg/model/backbone/local_net.py"
      ],
      "execution_count": null,
      "outputs": []
    },
    {
      "cell_type": "code",
      "metadata": {
        "colab": {
          "base_uri": "https://localhost:8080/"
        },
        "id": "bBe47GqKIDho",
        "outputId": "7afb7ddb-ed9c-4cb2-c0e1-69df42c25704"
      },
      "source": [
        "from google.colab import drive\n",
        "drive.mount('/content/drive')"
      ],
      "execution_count": null,
      "outputs": [
        {
          "output_type": "stream",
          "text": [
            "Mounted at /content/drive\n"
          ],
          "name": "stdout"
        }
      ]
    },
    {
      "cell_type": "code",
      "metadata": {
        "id": "ZvRmcVzvHzic",
        "colab": {
          "base_uri": "https://localhost:8080/"
        },
        "outputId": "4106e70d-7942-4f05-a106-365974c7bad1"
      },
      "source": [
        "!python -c \"import monai\" || pip install -q \"monai-weekly[gdown, nibabel, tqdm]\"\n",
        "!python -c \"import matplotlib\" || pip install -q matplotlib\n",
        "%matplotlib inline"
      ],
      "execution_count": null,
      "outputs": [
        {
          "output_type": "stream",
          "text": [
            "Traceback (most recent call last):\n",
            "  File \"<string>\", line 1, in <module>\n",
            "ModuleNotFoundError: No module named 'monai'\n",
            "\u001b[K     |████████████████████████████████| 583kB 7.6MB/s \n",
            "\u001b[K     |████████████████████████████████| 81kB 8.8MB/s \n",
            "\u001b[?25h"
          ],
          "name": "stdout"
        }
      ]
    },
    {
      "cell_type": "code",
      "metadata": {
        "id": "fnnwO2YIH14G"
      },
      "source": [
        "from monai.utils import first, set_determinism\n",
        "from monai.transforms import (\n",
        "    AsDiscrete,\n",
        "    AddChanneld,\n",
        "    Compose,\n",
        "    CropForegroundd,\n",
        "    LoadImaged,\n",
        "    Orientationd,\n",
        "    RandCropByPosNegLabeld,\n",
        "    ScaleIntensityRanged,\n",
        "    Spacingd,\n",
        "    ToTensord,\n",
        ")\n",
        "from monai.networks.nets import UNet\n",
        "# from monai.networks.nets import RegUNet\n",
        "from monai.networks.layers import Norm\n",
        "from monai.metrics import compute_meandice\n",
        "from monai.losses import DiceLoss\n",
        "from monai.inferers import sliding_window_inference\n",
        "from monai.data import CacheDataset, DataLoader, Dataset\n",
        "from monai.config import print_config\n",
        "from monai.apps import download_and_extract\n",
        "import torch\n",
        "import matplotlib.pyplot as plt\n",
        "import tempfile\n",
        "import shutil\n",
        "import os\n",
        "import glob"
      ],
      "execution_count": null,
      "outputs": []
    },
    {
      "cell_type": "code",
      "metadata": {
        "colab": {
          "base_uri": "https://localhost:8080/"
        },
        "id": "lL1QHNz9H6s_",
        "outputId": "01e6ccba-3439-4c5e-c9d6-eb83d65a6876"
      },
      "source": [
        "# Copyright 2020 MONAI Consortium\n",
        "# Licensed under the Apache License, Version 2.0 (the \"License\");\n",
        "# you may not use this file except in compliance with the License.\n",
        "# You may obtain a copy of the License at\n",
        "#     http://www.apache.org/licenses/LICENSE-2.0\n",
        "# Unless required by applicable law or agreed to in writing, software\n",
        "# distributed under the License is distributed on an \"AS IS\" BASIS,\n",
        "# WITHOUT WARRANTIES OR CONDITIONS OF ANY KIND, either express or implied.\n",
        "# See the License for the specific language governing permissions and\n",
        "# limitations under the License.\n",
        "\n",
        "\n",
        "print_config()"
      ],
      "execution_count": null,
      "outputs": [
        {
          "output_type": "stream",
          "text": [
            "MONAI version: 0.6.dev2127\n",
            "Numpy version: 1.19.5\n",
            "Pytorch version: 1.9.0+cu102\n",
            "MONAI flags: HAS_EXT = False, USE_COMPILED = False\n",
            "MONAI rev id: 889f33577be13b590211663995d2285aafc8fd74\n",
            "\n",
            "Optional dependencies:\n",
            "Pytorch Ignite version: NOT INSTALLED or UNKNOWN VERSION.\n",
            "Nibabel version: 3.0.2\n",
            "scikit-image version: 0.16.2\n",
            "Pillow version: 7.1.2\n",
            "Tensorboard version: 2.5.0\n",
            "gdown version: 3.6.4\n",
            "TorchVision version: 0.10.0+cu102\n",
            "ITK version: NOT INSTALLED or UNKNOWN VERSION.\n",
            "tqdm version: 4.61.2\n",
            "lmdb version: 0.99\n",
            "psutil version: 5.4.8\n",
            "pandas version: 1.1.5\n",
            "einops version: NOT INSTALLED or UNKNOWN VERSION.\n",
            "\n",
            "For details about installing the optional dependencies, please visit:\n",
            "    https://docs.monai.io/en/latest/installation.html#installing-the-recommended-dependencies\n",
            "\n"
          ],
          "name": "stdout"
        }
      ]
    },
    {
      "cell_type": "code",
      "metadata": {
        "colab": {
          "base_uri": "https://localhost:8080/"
        },
        "id": "u-gncdi7H8tX",
        "outputId": "673ea37a-855e-4966-8137-1d90d38c8620"
      },
      "source": [
        "directory = os.environ.get(\"MONAI_DATA_DIRECTORY\")\n",
        "root_dir = tempfile.mkdtemp() if directory is None else directory\n",
        "print(root_dir)"
      ],
      "execution_count": null,
      "outputs": [
        {
          "output_type": "stream",
          "text": [
            "/tmp/tmpoi_2vssg\n"
          ],
          "name": "stdout"
        }
      ]
    },
    {
      "cell_type": "code",
      "metadata": {
        "id": "xqHENyIoHwx-"
      },
      "source": [
        "from glob import glob as gg\n",
        "train_labels =[]\n",
        "\n",
        "path ='/content/drive/MyDrive/H&M/ConvertedToNii/gtvt/'\n",
        "classes =os.listdir(path)\n",
        "# print(classes)\n",
        "# print(len(classes))\n",
        "\n",
        "\n",
        "for cls in files:\n",
        "  label =gg(path + cls +'/*.nii.gz')\n",
        "  # print(label)\n",
        "  # for lbl in label :\n",
        "    # print('ok')\n",
        "  train_labels.append(label)\n",
        "   \n",
        "# train_labels"
      ],
      "execution_count": null,
      "outputs": []
    },
    {
      "cell_type": "code",
      "metadata": {
        "id": "WNhKUiGqHwwf"
      },
      "source": [
        "train_images =[]\n",
        "\n",
        "path ='/content/drive/MyDrive/H&M/ConvertedToNii/ct/'\n",
        "classes =os.listdir(path)\n",
        "# print(classes)\n",
        "\n",
        "\n",
        "\n",
        "for cls in files:\n",
        "  images =gg(path + cls +'/*.nii.gz')\n",
        "  # print(images)\n",
        "  # for img in images :\n",
        "    # print('ok')\n",
        "  train_images.append(images)\n",
        "    # gtvt.append(cls)\n",
        "# len(train_images)"
      ],
      "execution_count": null,
      "outputs": []
    },
    {
      "cell_type": "code",
      "metadata": {
        "id": "dSm-MtW1HwrT"
      },
      "source": [
        "data_dicts = [\n",
        "    {\"image\": image_name, \"label\": label_name}\n",
        "    for image_name, label_name in zip(train_images, train_labels)\n",
        "]\n",
        "for i in data_dicts: \n",
        "  if (i['image'] == []):\n",
        "    data_dicts.remove(i)\n",
        "train_files, val_files = data_dicts[:-9], data_dicts[-9:]"
      ],
      "execution_count": null,
      "outputs": []
    },
    {
      "cell_type": "code",
      "metadata": {
        "colab": {
          "base_uri": "https://localhost:8080/"
        },
        "id": "DdzqxRUJIJ1y",
        "outputId": "20540a8c-7857-46a1-d2f5-5bda88e208b8"
      },
      "source": [
        "train_files[5]"
      ],
      "execution_count": null,
      "outputs": [
        {
          "output_type": "execute_result",
          "data": {
            "text/plain": [
              "{'image': ['/content/drive/MyDrive/H&M/ConvertedToNii/ct/103/3_merged.nii.gz'],\n",
              " 'label': ['/content/drive/MyDrive/H&M/ConvertedToNii/gtvt/103/103.nii.gz']}"
            ]
          },
          "metadata": {
            "tags": []
          },
          "execution_count": 14
        }
      ]
    },
    {
      "cell_type": "code",
      "metadata": {
        "id": "LPgvR_6OIMul"
      },
      "source": [
        "set_determinism(seed=0)"
      ],
      "execution_count": null,
      "outputs": []
    },
    {
      "cell_type": "code",
      "metadata": {
        "id": "qfKjGHJgIOHf"
      },
      "source": [
        "train_transforms = Compose(\n",
        "    [\n",
        "        LoadImaged(keys=[\"image\", \"label\"]),\n",
        "        AddChanneld(keys=[\"image\", \"label\"]),\n",
        "        Spacingd(keys=[\"image\", \"label\"], pixdim=(\n",
        "            1.5, 1.5, 2.0), mode=(\"bilinear\", \"nearest\")),\n",
        "        Orientationd(keys=[\"image\", \"label\"], axcodes=\"RAS\"),\n",
        "        ScaleIntensityRanged(\n",
        "            keys=[\"image\"], a_min=-57, a_max=164,\n",
        "            b_min=0.0, b_max=1.0, clip=True,\n",
        "        ),\n",
        "        CropForegroundd(keys=[\"image\", \"label\"], source_key=\"image\"),\n",
        "        RandCropByPosNegLabeld(\n",
        "            keys=[\"image\", \"label\"],\n",
        "            label_key=\"label\",\n",
        "            spatial_size=(96, 96, 96),\n",
        "            pos=1,\n",
        "            neg=1,\n",
        "            num_samples=4,\n",
        "            image_key=\"image\",\n",
        "            image_threshold=0,\n",
        "        ),\n",
        "        # user can also add other random transforms\n",
        "        # RandAffined(\n",
        "        #     keys=['image', 'label'],\n",
        "        #     mode=('bilinear', 'nearest'),\n",
        "        #     prob=1.0, spatial_size=(96, 96, 96),\n",
        "        #     rotate_range=(0, 0, np.pi/15),\n",
        "        #     scale_range=(0.1, 0.1, 0.1)),\n",
        "        ToTensord(keys=[\"image\", \"label\"]),\n",
        "    ]\n",
        ")\n",
        "val_transforms = Compose(\n",
        "    [\n",
        "        LoadImaged(keys=[\"image\", \"label\"]),\n",
        "        AddChanneld(keys=[\"image\", \"label\"]),\n",
        "        Spacingd(keys=[\"image\", \"label\"], pixdim=(\n",
        "            1.5, 1.5, 2.0), mode=(\"bilinear\", \"nearest\")),\n",
        "        Orientationd(keys=[\"image\", \"label\"], axcodes=\"RAS\"),\n",
        "        ScaleIntensityRanged(\n",
        "            keys=[\"image\"], a_min=-57, a_max=164,\n",
        "            b_min=0.0, b_max=1.0, clip=True,\n",
        "        ),\n",
        "        CropForegroundd(keys=[\"image\", \"label\"], source_key=\"image\"),\n",
        "        ToTensord(keys=[\"image\", \"label\"]),\n",
        "    ]\n",
        ")"
      ],
      "execution_count": null,
      "outputs": []
    },
    {
      "cell_type": "code",
      "metadata": {
        "id": "XFALe8z0IQPO"
      },
      "source": [
        "# check_ds = Dataset(data=val_files, transform=val_transforms)\n",
        "# check_loader = DataLoader(check_ds, batch_size=1)\n",
        "# check_data = first(check_loader)\n",
        "# image, label = (check_data[\"image\"][0][0], check_data[\"label\"][0][0])\n",
        "# print(f\"image shape: {image.shape}, label shape: {label.shape}\")\n",
        "# # plot the slice [:, :, 80]\n",
        "# plt.figure(\"check\", (12, 6))\n",
        "# plt.subplot(1, 2, 1)\n",
        "# plt.title(\"image\")\n",
        "# plt.imshow(image[:, :, 80], cmap=\"gray\")\n",
        "# plt.subplot(1, 2, 2)\n",
        "# plt.title(\"label\")\n",
        "# plt.imshow(label[:, :, 80])\n",
        "# plt.show()"
      ],
      "execution_count": null,
      "outputs": []
    },
    {
      "cell_type": "code",
      "metadata": {
        "colab": {
          "base_uri": "https://localhost:8080/"
        },
        "id": "burzbyPlIuI5",
        "outputId": "fadbb877-4902-4f13-a7e0-25430e1e462c"
      },
      "source": [
        "train_ds = CacheDataset(\n",
        "    data=train_files[40:60], transform=train_transforms,\n",
        "    cache_rate=1.0, num_workers=2)\n",
        "# train_ds = monai.data.Dataset(data=train_files, transform=train_transforms)\n",
        "\n",
        "# use batch_size=2 to load images and use RandCropByPosNegLabeld\n",
        "# to generate 2 x 4 images for network training\n",
        "train_loader = DataLoader(train_ds, batch_size=2, shuffle=True, num_workers=2)\n",
        "\n",
        "val_ds = CacheDataset(\n",
        "    data=val_files[10:16], transform=val_transforms, cache_rate=1.0, num_workers=2)#6-10#10-16#16-22#\n",
        "# val_ds = Dataset(data=val_files, transform=val_transforms)\n",
        "val_loader = DataLoader(val_ds, batch_size=1, num_workers=2)"
      ],
      "execution_count": null,
      "outputs": [
        {
          "output_type": "stream",
          "text": [
            "Loading dataset: 100%|██████████| 20/20 [01:26<00:00,  4.33s/it]\n"
          ],
          "name": "stderr"
        }
      ]
    },
    {
      "cell_type": "code",
      "metadata": {
        "colab": {
          "base_uri": "https://localhost:8080/"
        },
        "id": "sGdQjfDjR2B5",
        "outputId": "67c7b571-d250-4e17-a0f8-e82f45c51e08"
      },
      "source": [
        "%%time\n",
        "import torch\n",
        "torch.cuda.is_available()"
      ],
      "execution_count": null,
      "outputs": [
        {
          "output_type": "stream",
          "text": [
            "CPU times: user 4.03 ms, sys: 28.8 ms, total: 32.9 ms\n",
            "Wall time: 55.8 ms\n"
          ],
          "name": "stdout"
        }
      ]
    },
    {
      "cell_type": "code",
      "metadata": {
        "id": "4wSxX2WeV5uT"
      },
      "source": [
        "from monai.networks.nets import RegUNet\n",
        "\n",
        "\n",
        "device = torch.device(\"cuda:0\")\n",
        "\n",
        "ddir =\"/content/drive/MyDrive/H&M/Hanieh/RUn/regunet/model2_weights.pth\"\n",
        "model = torch.load((ddir))\n",
        "\n",
        "model = model.to(device)\n",
        "loss_function = DiceLoss(to_onehot_y=True, softmax=True)\n",
        "optimizer = torch.optim.Adam(model.parameters(), 1e-4)"
      ],
      "execution_count": null,
      "outputs": []
    },
    {
      "cell_type": "code",
      "metadata": {
        "colab": {
          "base_uri": "https://localhost:8080/",
          "height": 673
        },
        "id": "cnVSno9FPlMn",
        "outputId": "2f43fae4-a4c0-4888-f7f7-5e9c1eee0d3d"
      },
      "source": [
        "max_epochs = 100\n",
        "val_interval = 2\n",
        "best_metric = -1\n",
        "best_metric_epoch = -1\n",
        "epoch_loss_values = []\n",
        "metric_values = []\n",
        "post_pred = AsDiscrete(argmax=True, to_onehot=True, n_classes=2)\n",
        "post_label = AsDiscrete(to_onehot=True, n_classes=2)\n",
        "\n",
        "for epoch in range(max_epochs):\n",
        "    print(\"-\" * 10)\n",
        "    print(f\"epoch {epoch + 1}/{max_epochs}\")\n",
        "    model.train()\n",
        "    epoch_loss = 0\n",
        "    step = 0\n",
        "    for batch_data in train_loader:\n",
        "        step += 1\n",
        "        inputs, labels = (\n",
        "            batch_data[\"image\"].to(device),\n",
        "            batch_data[\"label\"].to(device),\n",
        "        )\n",
        "        optimizer.zero_grad()\n",
        "        outputs = model(inputs)\n",
        "        loss = loss_function(outputs, labels)\n",
        "        loss.backward()\n",
        "        optimizer.step()\n",
        "        epoch_loss += loss.item()\n",
        "        print(\n",
        "            f\"{step}/{len(train_ds) // train_loader.batch_size}, \"\n",
        "            f\"train_loss: {loss.item():.4f}\")\n",
        "    epoch_loss /= step\n",
        "    epoch_loss_values.append(epoch_loss)\n",
        "    print(f\"epoch {epoch + 1} average loss: {epoch_loss:.4f}\")\n",
        "\n",
        "    if (epoch + 1) % val_interval == 0:\n",
        "        model.eval()\n",
        "        with torch.no_grad():\n",
        "            metric_sum = 0.0\n",
        "            metric_count = 0\n",
        "            for val_data in val_loader:\n",
        "                val_inputs, val_labels = (\n",
        "                    val_data[\"image\"].to(device),\n",
        "                    val_data[\"label\"].to(device),\n",
        "                )\n",
        "                roi_size = (160, 160, 160)\n",
        "                sw_batch_size = 4\n",
        "                val_outputs = sliding_window_inference(\n",
        "                    val_inputs, roi_size, sw_batch_size, model)\n",
        "                val_outputs = post_pred(val_outputs)\n",
        "                val_labels = post_label(val_labels)\n",
        "                value = compute_meandice(\n",
        "                    y_pred=val_outputs,\n",
        "                    y=val_labels,\n",
        "                    include_background=False,\n",
        "                )\n",
        "                metric_count += len(value)\n",
        "                metric_sum += value.sum().item()\n",
        "            metric = metric_sum / metric_count\n",
        "            metric_values.append(metric)\n",
        "            if metric > best_metric:\n",
        "                best_metric = metric\n",
        "                best_metric_epoch = epoch + 1\n",
        "                torch.save(model.state_dict(), os.path.join(\n",
        "                    root_dir, \"best_metric_model.pth\"))\n",
        "                print(\"saved new best metric model\")\n",
        "            print(\n",
        "                f\"current epoch: {epoch + 1} current mean dice: {metric:.4f}\"\n",
        "                f\"\\nbest mean dice: {best_metric:.4f} \"\n",
        "                f\"at epoch: {best_metric_epoch}\"\n",
        "            )"
      ],
      "execution_count": null,
      "outputs": [
        {
          "output_type": "stream",
          "text": [
            "----------\n",
            "epoch 1/100\n",
            "1/10, train_loss: 0.5704\n",
            "2/10, train_loss: 0.5675\n",
            "3/10, train_loss: 0.5634\n",
            "4/10, train_loss: 0.5661\n",
            "5/10, train_loss: 0.5644\n",
            "6/10, train_loss: 0.5624\n",
            "7/10, train_loss: 0.5619\n",
            "8/10, train_loss: 0.5580\n",
            "9/10, train_loss: 0.5584\n",
            "10/10, train_loss: 0.5577\n",
            "epoch 1 average loss: 0.5630\n",
            "----------\n",
            "epoch 2/100\n",
            "1/10, train_loss: 0.5582\n",
            "2/10, train_loss: 0.5544\n",
            "3/10, train_loss: 0.5549\n",
            "4/10, train_loss: 0.5509\n",
            "5/10, train_loss: 0.5493\n",
            "6/10, train_loss: 0.5513\n",
            "7/10, train_loss: 0.5486\n",
            "8/10, train_loss: 0.5452\n",
            "9/10, train_loss: 0.5462\n",
            "10/10, train_loss: 0.5442\n",
            "epoch 2 average loss: 0.5503\n"
          ],
          "name": "stdout"
        },
        {
          "output_type": "error",
          "ename": "ZeroDivisionError",
          "evalue": "ignored",
          "traceback": [
            "\u001b[0;31m---------------------------------------------------------------------------\u001b[0m",
            "\u001b[0;31mZeroDivisionError\u001b[0m                         Traceback (most recent call last)",
            "\u001b[0;32m<ipython-input-22-81a017699dc8>\u001b[0m in \u001b[0;36m<module>\u001b[0;34m()\u001b[0m\n\u001b[1;32m     56\u001b[0m                 \u001b[0mmetric_count\u001b[0m \u001b[0;34m+=\u001b[0m \u001b[0mlen\u001b[0m\u001b[0;34m(\u001b[0m\u001b[0mvalue\u001b[0m\u001b[0;34m)\u001b[0m\u001b[0;34m\u001b[0m\u001b[0;34m\u001b[0m\u001b[0m\n\u001b[1;32m     57\u001b[0m                 \u001b[0mmetric_sum\u001b[0m \u001b[0;34m+=\u001b[0m \u001b[0mvalue\u001b[0m\u001b[0;34m.\u001b[0m\u001b[0msum\u001b[0m\u001b[0;34m(\u001b[0m\u001b[0;34m)\u001b[0m\u001b[0;34m.\u001b[0m\u001b[0mitem\u001b[0m\u001b[0;34m(\u001b[0m\u001b[0;34m)\u001b[0m\u001b[0;34m\u001b[0m\u001b[0;34m\u001b[0m\u001b[0m\n\u001b[0;32m---> 58\u001b[0;31m             \u001b[0mmetric\u001b[0m \u001b[0;34m=\u001b[0m \u001b[0mmetric_sum\u001b[0m \u001b[0;34m/\u001b[0m \u001b[0mmetric_count\u001b[0m\u001b[0;34m\u001b[0m\u001b[0;34m\u001b[0m\u001b[0m\n\u001b[0m\u001b[1;32m     59\u001b[0m             \u001b[0mmetric_values\u001b[0m\u001b[0;34m.\u001b[0m\u001b[0mappend\u001b[0m\u001b[0;34m(\u001b[0m\u001b[0mmetric\u001b[0m\u001b[0;34m)\u001b[0m\u001b[0;34m\u001b[0m\u001b[0;34m\u001b[0m\u001b[0m\n\u001b[1;32m     60\u001b[0m             \u001b[0;32mif\u001b[0m \u001b[0mmetric\u001b[0m \u001b[0;34m>\u001b[0m \u001b[0mbest_metric\u001b[0m\u001b[0;34m:\u001b[0m\u001b[0;34m\u001b[0m\u001b[0;34m\u001b[0m\u001b[0m\n",
            "\u001b[0;31mZeroDivisionError\u001b[0m: float division by zero"
          ]
        }
      ]
    },
    {
      "cell_type": "code",
      "metadata": {
        "id": "H0EBv926ZvgB"
      },
      "source": [
        "# torch.cuda.empty_cache()"
      ],
      "execution_count": null,
      "outputs": []
    },
    {
      "cell_type": "code",
      "metadata": {
        "colab": {
          "base_uri": "https://localhost:8080/"
        },
        "id": "_5vvTitMPl0f",
        "outputId": "b385d79f-e776-4c44-f601-bd731aebcdac"
      },
      "source": [
        "print(\n",
        "    f\"train completed, best_metric: {best_metric:.4f} \"\n",
        "    f\"at epoch: {best_metric_epoch}\")"
      ],
      "execution_count": null,
      "outputs": [
        {
          "output_type": "stream",
          "text": [
            "train completed, best_metric: 0.5000 at epoch: 2\n"
          ],
          "name": "stdout"
        }
      ]
    },
    {
      "cell_type": "code",
      "metadata": {
        "colab": {
          "base_uri": "https://localhost:8080/",
          "height": 374
        },
        "id": "pEynSPQsPmZm",
        "outputId": "8c2a56ec-2677-42d4-83e2-97e71f05c125"
      },
      "source": [
        "plt.figure(\"train\", (12, 6))\n",
        "plt.subplot(1, 2, 1)\n",
        "plt.title(\"Epoch Average Loss\")\n",
        "x = [i + 1 for i in range(len(epoch_loss_values))]\n",
        "y = epoch_loss_values\n",
        "plt.xlabel(\"epoch\")\n",
        "plt.plot(x, y)\n",
        "plt.subplot(1, 2, 2)\n",
        "plt.title(\"Val Mean Dice\")\n",
        "x = [val_interval * (i + 1) for i in range(len(metric_values))]\n",
        "y = metric_values\n",
        "plt.xlabel(\"epoch\")\n",
        "plt.plot(x, y)\n",
        "plt.show()"
      ],
      "execution_count": null,
      "outputs": [
        {
          "output_type": "display_data",
          "data": {
            "image/png": "[encoded data removed]",
            "text/plain": [
              "<Figure size 864x432 with 2 Axes>"
            ]
          },
          "metadata": {
            "tags": [],
            "needs_background": "light"
          }
        }
      ]
    },
    {
      "cell_type": "code",
      "metadata": {
        "colab": {
          "base_uri": "https://localhost:8080/",
          "height": 768
        },
        "id": "IWSlNKR3Iw0o",
        "outputId": "a95fa7b9-3f9c-48d7-c9d3-9e2424417926"
      },
      "source": [
        "import nibabel as nib\n",
        "import numpy as np\n",
        "model.load_state_dict(torch.load(\n",
        "    os.path.join(root_dir, \"best_metric_model.pth\")))\n",
        "model.eval()\n",
        "with torch.no_grad():\n",
        "    for i, val_data in enumerate(val_loader):\n",
        "        roi_size = (160, 160, 160)\n",
        "        sw_batch_size = 4\n",
        "        val_outputs = sliding_window_inference(\n",
        "            val_data[\"image\"].to(device), roi_size, sw_batch_size, model\n",
        "        )\n",
        "        # o = torch.argmax(val_outputs, dim=1).detach().cpu()[0, :, :, :]\n",
        "        # o = np.array(o)\n",
        "        # v = nib.load(val_files[i][\"label\"])\n",
        "        # ni_img = nib.Nifti1Image(o, v.affine)\n",
        "        # #name= (val_files[i][\"label\"].split(\"/\"))[-1].split(\"_\")[0]\n",
        "        # nib.save(ni_img, '/content/gdrive/MyDrive/H&M/Hanieh/RUn/regunet/'+(val_files[i][\"label\"].split(\"/\"))[-1].split(\"_\")[0]+'_output.nii.gz')\n",
        "        # plot the slice [:, :, 80]\n",
        "        # plot the slice [:, :, 80]\n",
        "        plt.figure(\"check\", (18, 6))\n",
        "        plt.subplot(1, 3, 1)\n",
        "        plt.title(f\"image {i}\")\n",
        "        plt.imshow(val_data[\"image\"][0, 0, :, :, 80], cmap=\"gray\")\n",
        "        plt.subplot(1, 3, 2)\n",
        "        plt.title(f\"label {i}\")\n",
        "        plt.imshow(val_data[\"label\"][0, 0, :, :, 80])\n",
        "        plt.subplot(1, 3, 3)\n",
        "        plt.title(f\"output {i}\")\n",
        "        plt.imshow(torch.argmax(\n",
        "            val_outputs, dim=1).detach().cpu()[0, :, :, 80])\n",
        "        plt.show()"
      ],
      "execution_count": null,
      "outputs": [
        {
          "output_type": "display_data",
          "data": {
            "image/png": "[encoded data removed]",
            "text/plain": [
              "<Figure size 1296x432 with 3 Axes>"
            ]
          },
          "metadata": {
            "tags": [],
            "needs_background": "light"
          }
        },
        {
          "output_type": "display_data",
          "data": {
            "image/png": "[encoded data removed]",
            "text/plain": [
              "<Figure size 1296x432 with 3 Axes>"
            ]
          },
          "metadata": {
            "tags": [],
            "needs_background": "light"
          }
        },
        {
          "output_type": "display_data",
          "data": {
            "image/png": "[encoded data removed]",
            "text/plain": [
              "<Figure size 1296x432 with 3 Axes>"
            ]
          },
          "metadata": {
            "tags": [],
            "needs_background": "light"
          }
        }
      ]
    },
    {
      "cell_type": "code",
      "metadata": {
        "colab": {
          "base_uri": "https://localhost:8080/",
          "height": 35
        },
        "id": "RdjqXEXElBZV",
        "outputId": "0a0c2ee5-0cbf-4176-dec2-3855f41adcf4"
      },
      "source": [
        "# (val_files[i][\"label\"].split(\"/\"))[-1].split(\"_\")[0]+'output.nii.gz'"
      ],
      "execution_count": null,
      "outputs": [
        {
          "output_type": "execute_result",
          "data": {
            "application/vnd.google.colaboratory.intrinsic+json": {
              "type": "string"
            },
            "text/plain": [
              "'CHGJ032output.nii.gz'"
            ]
          },
          "metadata": {
            "tags": []
          },
          "execution_count": 22
        }
      ]
    },
    {
      "cell_type": "code",
      "metadata": {
        "id": "84qpiVREPupo"
      },
      "source": [
        "# val_data[\"label\"]"
      ],
      "execution_count": null,
      "outputs": []
    },
    {
      "cell_type": "code",
      "metadata": {
        "colab": {
          "base_uri": "https://localhost:8080/"
        },
        "id": "O1AK0pd1QVyl",
        "outputId": "dee0fdb5-2b2e-49cf-fe55-4c4dec214c52"
      },
      "source": [
        "val_outputs"
      ],
      "execution_count": null,
      "outputs": [
        {
          "output_type": "execute_result",
          "data": {
            "text/plain": [
              "tensor([[[[[-0.1085, -0.1085, -0.1085,  ..., -0.2360, -0.2360, -0.2360],\n",
              "           [-0.1085, -0.1085, -0.1085,  ..., -0.2360, -0.2360, -0.2360],\n",
              "           [-0.1085, -0.1085, -0.1085,  ..., -0.2360, -0.2360, -0.2360],\n",
              "           ...,\n",
              "           [ 0.7908,  0.7908,  0.7908,  ...,  0.0916,  0.0916,  0.0916],\n",
              "           [ 0.7908,  0.7908,  0.7908,  ...,  0.0916,  0.0916,  0.0916],\n",
              "           [ 0.7908,  0.7908,  0.7908,  ...,  0.0916,  0.0916,  0.0916]],\n",
              "\n",
              "          [[-0.1085, -0.1085, -0.1085,  ..., -0.2360, -0.2360, -0.2360],\n",
              "           [-0.1085, -0.1085, -0.1085,  ..., -0.2360, -0.2360, -0.2360],\n",
              "           [-0.1085, -0.1085, -0.1085,  ..., -0.2360, -0.2360, -0.2360],\n",
              "           ...,\n",
              "           [ 0.7908,  0.7908,  0.7908,  ...,  0.0916,  0.0916,  0.0916],\n",
              "           [ 0.7908,  0.7908,  0.7908,  ...,  0.0916,  0.0916,  0.0916],\n",
              "           [ 0.7908,  0.7908,  0.7908,  ...,  0.0916,  0.0916,  0.0916]],\n",
              "\n",
              "          [[-0.1085, -0.1085, -0.1085,  ..., -0.2360, -0.2360, -0.2360],\n",
              "           [-0.1085, -0.1085, -0.1085,  ..., -0.2360, -0.2360, -0.2360],\n",
              "           [-0.1085, -0.1085, -0.1085,  ..., -0.2360, -0.2360, -0.2360],\n",
              "           ...,\n",
              "           [ 0.7908,  0.7908,  0.7908,  ...,  0.0916,  0.0916,  0.0916],\n",
              "           [ 0.7908,  0.7908,  0.7908,  ...,  0.0916,  0.0916,  0.0916],\n",
              "           [ 0.7908,  0.7908,  0.7908,  ...,  0.0916,  0.0916,  0.0916]],\n",
              "\n",
              "          ...,\n",
              "\n",
              "          [[-0.0432, -0.0432, -0.0432,  ...,  0.4873,  0.4873,  0.4873],\n",
              "           [-0.0432, -0.0432, -0.0432,  ...,  0.4873,  0.4873,  0.4873],\n",
              "           [-0.0432, -0.0432, -0.0432,  ...,  0.4873,  0.4873,  0.4873],\n",
              "           ...,\n",
              "           [ 0.1247,  0.1247,  0.1247,  ...,  0.2083,  0.2083,  0.2083],\n",
              "           [ 0.1247,  0.1247,  0.1247,  ...,  0.2083,  0.2083,  0.2083],\n",
              "           [ 0.1247,  0.1247,  0.1247,  ...,  0.2083,  0.2083,  0.2083]],\n",
              "\n",
              "          [[-0.0432, -0.0432, -0.0432,  ...,  0.4873,  0.4873,  0.4873],\n",
              "           [-0.0432, -0.0432, -0.0432,  ...,  0.4873,  0.4873,  0.4873],\n",
              "           [-0.0432, -0.0432, -0.0432,  ...,  0.4873,  0.4873,  0.4873],\n",
              "           ...,\n",
              "           [ 0.1247,  0.1247,  0.1247,  ...,  0.2083,  0.2083,  0.2083],\n",
              "           [ 0.1247,  0.1247,  0.1247,  ...,  0.2083,  0.2083,  0.2083],\n",
              "           [ 0.1247,  0.1247,  0.1247,  ...,  0.2083,  0.2083,  0.2083]],\n",
              "\n",
              "          [[-0.0432, -0.0432, -0.0432,  ...,  0.4873,  0.4873,  0.4873],\n",
              "           [-0.0432, -0.0432, -0.0432,  ...,  0.4873,  0.4873,  0.4873],\n",
              "           [-0.0432, -0.0432, -0.0432,  ...,  0.4873,  0.4873,  0.4873],\n",
              "           ...,\n",
              "           [ 0.1247,  0.1247,  0.1247,  ...,  0.2083,  0.2083,  0.2083],\n",
              "           [ 0.1247,  0.1247,  0.1247,  ...,  0.2083,  0.2083,  0.2083],\n",
              "           [ 0.1247,  0.1247,  0.1247,  ...,  0.2083,  0.2083,  0.2083]]],\n",
              "\n",
              "\n",
              "         [[[-0.5536, -0.5536, -0.5536,  ..., -0.2478, -0.2478, -0.2478],\n",
              "           [-0.5536, -0.5536, -0.5536,  ..., -0.2478, -0.2478, -0.2478],\n",
              "           [-0.5536, -0.5536, -0.5536,  ..., -0.2478, -0.2478, -0.2478],\n",
              "           ...,\n",
              "           [-0.1395, -0.1395, -0.1395,  ..., -0.6161, -0.6161, -0.6161],\n",
              "           [-0.1395, -0.1395, -0.1395,  ..., -0.6161, -0.6161, -0.6161],\n",
              "           [-0.1395, -0.1395, -0.1395,  ..., -0.6161, -0.6161, -0.6161]],\n",
              "\n",
              "          [[-0.5536, -0.5536, -0.5536,  ..., -0.2478, -0.2478, -0.2478],\n",
              "           [-0.5536, -0.5536, -0.5536,  ..., -0.2478, -0.2478, -0.2478],\n",
              "           [-0.5536, -0.5536, -0.5536,  ..., -0.2478, -0.2478, -0.2478],\n",
              "           ...,\n",
              "           [-0.1395, -0.1395, -0.1395,  ..., -0.6161, -0.6161, -0.6161],\n",
              "           [-0.1395, -0.1395, -0.1395,  ..., -0.6161, -0.6161, -0.6161],\n",
              "           [-0.1395, -0.1395, -0.1395,  ..., -0.6161, -0.6161, -0.6161]],\n",
              "\n",
              "          [[-0.5536, -0.5536, -0.5536,  ..., -0.2478, -0.2478, -0.2478],\n",
              "           [-0.5536, -0.5536, -0.5536,  ..., -0.2478, -0.2478, -0.2478],\n",
              "           [-0.5536, -0.5536, -0.5536,  ..., -0.2478, -0.2478, -0.2478],\n",
              "           ...,\n",
              "           [-0.1395, -0.1395, -0.1395,  ..., -0.6161, -0.6161, -0.6161],\n",
              "           [-0.1395, -0.1395, -0.1395,  ..., -0.6161, -0.6161, -0.6161],\n",
              "           [-0.1395, -0.1395, -0.1395,  ..., -0.6161, -0.6161, -0.6161]],\n",
              "\n",
              "          ...,\n",
              "\n",
              "          [[-0.0428, -0.0428, -0.0428,  ..., -0.2930, -0.2930, -0.2930],\n",
              "           [-0.0428, -0.0428, -0.0428,  ..., -0.2930, -0.2930, -0.2930],\n",
              "           [-0.0428, -0.0428, -0.0428,  ..., -0.2930, -0.2930, -0.2930],\n",
              "           ...,\n",
              "           [ 0.1374,  0.1374,  0.1374,  ..., -0.3429, -0.3429, -0.3429],\n",
              "           [ 0.1374,  0.1374,  0.1374,  ..., -0.3429, -0.3429, -0.3429],\n",
              "           [ 0.1374,  0.1374,  0.1374,  ..., -0.3429, -0.3429, -0.3429]],\n",
              "\n",
              "          [[-0.0428, -0.0428, -0.0428,  ..., -0.2930, -0.2930, -0.2930],\n",
              "           [-0.0428, -0.0428, -0.0428,  ..., -0.2930, -0.2930, -0.2930],\n",
              "           [-0.0428, -0.0428, -0.0428,  ..., -0.2930, -0.2930, -0.2930],\n",
              "           ...,\n",
              "           [ 0.1374,  0.1374,  0.1374,  ..., -0.3429, -0.3429, -0.3429],\n",
              "           [ 0.1374,  0.1374,  0.1374,  ..., -0.3429, -0.3429, -0.3429],\n",
              "           [ 0.1374,  0.1374,  0.1374,  ..., -0.3429, -0.3429, -0.3429]],\n",
              "\n",
              "          [[-0.0428, -0.0428, -0.0428,  ..., -0.2930, -0.2930, -0.2930],\n",
              "           [-0.0428, -0.0428, -0.0428,  ..., -0.2930, -0.2930, -0.2930],\n",
              "           [-0.0428, -0.0428, -0.0428,  ..., -0.2930, -0.2930, -0.2930],\n",
              "           ...,\n",
              "           [ 0.1374,  0.1374,  0.1374,  ..., -0.3429, -0.3429, -0.3429],\n",
              "           [ 0.1374,  0.1374,  0.1374,  ..., -0.3429, -0.3429, -0.3429],\n",
              "           [ 0.1374,  0.1374,  0.1374,  ..., -0.3429, -0.3429, -0.3429]]]]],\n",
              "       device='cuda:0')"
            ]
          },
          "metadata": {
            "tags": []
          },
          "execution_count": 27
        }
      ]
    },
    {
      "cell_type": "code",
      "metadata": {
        "id": "Zv7OHlRfQWLL"
      },
      "source": [
        "ddir = \"/content/drive/MyDrive/H&M/Hanieh/RUn/regunet/model2_weights.pth\"\n",
        "torch.save(model, ddir)"
      ],
      "execution_count": null,
      "outputs": []
    },
    {
      "cell_type": "code",
      "metadata": {
        "id": "f3y_63Z7QWg5"
      },
      "source": [
        ""
      ],
      "execution_count": null,
      "outputs": []
    },
    {
      "cell_type": "code",
      "metadata": {
        "id": "C5ghW9XkQW16"
      },
      "source": [
        ""
      ],
      "execution_count": null,
      "outputs": []
    },
    {
      "cell_type": "code",
      "metadata": {
        "id": "V8lJg8rDPu-k"
      },
      "source": [
        ""
      ],
      "execution_count": null,
      "outputs": []
    }
  ]
}